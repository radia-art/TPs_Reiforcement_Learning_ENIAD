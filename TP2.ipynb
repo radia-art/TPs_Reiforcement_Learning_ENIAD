{
 "cells": [
  {
   "cell_type": "markdown",
   "id": "357a86a0-6630-45cf-8257-e39e84519c0e",
   "metadata": {},
   "source": [
    "__Exercice 1 : Opérations NumPy de base__"
   ]
  },
  {
   "cell_type": "code",
   "execution_count": 3,
   "id": "3df47b3b-3729-417d-b6bb-f1d90e4de0aa",
   "metadata": {},
   "outputs": [],
   "source": [
    "import numpy as np"
   ]
  },
  {
   "cell_type": "code",
   "execution_count": 4,
   "id": "56ad33a8-363b-47f0-9d1c-18c02e37d885",
   "metadata": {},
   "outputs": [
    {
     "data": {
      "text/plain": [
       "array([1, 2, 3, 4, 5])"
      ]
     },
     "execution_count": 4,
     "metadata": {},
     "output_type": "execute_result"
    }
   ],
   "source": [
    "liste=np.array([1, 2, 3, 4, 5])\n",
    "liste"
   ]
  },
  {
   "cell_type": "code",
   "execution_count": 5,
   "id": "ac462068-3bba-4c35-92ed-5277ff8ade89",
   "metadata": {},
   "outputs": [
    {
     "name": "stdout",
     "output_type": "stream",
     "text": [
      "15\n",
      "3.0\n",
      "120\n"
     ]
    }
   ],
   "source": [
    "print(liste.sum())\n",
    "print(liste.mean())\n",
    "print(liste.prod())\n"
   ]
  },
  {
   "cell_type": "code",
   "execution_count": 9,
   "id": "b838d529-2d0f-41b8-a248-39054f7636f7",
   "metadata": {},
   "outputs": [
    {
     "name": "stdout",
     "output_type": "stream",
     "text": [
      "1\n",
      "4\n",
      "27\n",
      "256\n",
      "3125\n"
     ]
    }
   ],
   "source": [
    "for i in liste:\n",
    "    print(i**i)"
   ]
  },
  {
   "cell_type": "markdown",
   "id": "4f4ecf51-cea1-41bf-aaac-70658bbfdfbc",
   "metadata": {},
   "source": [
    "__Exercice 2 : Produit Matriciel__"
   ]
  },
  {
   "cell_type": "code",
   "execution_count": 1,
   "id": "f04ac69c-7e4b-41c4-bf19-717c68fe9ac6",
   "metadata": {},
   "outputs": [
    {
     "name": "stdout",
     "output_type": "stream",
     "text": [
      "La matrice A est  [[0.98842711 0.97859191]\n",
      " [0.63799144 0.72949849]\n",
      " [0.58253443 0.37847642]]\n",
      "La matrice B est  [[0.91132332 0.83157887 0.5747993  0.24117655]\n",
      " [0.99606196 0.11211485 0.72421557 0.38329586]]\n"
     ]
    }
   ],
   "source": [
    "import numpy as np\n",
    "A=np.random.rand(3,2)\n",
    "B=np.random.rand(2,4)\n",
    "print(\"La matrice A est \",A)\n",
    "print(\"La matrice B est \",B)"
   ]
  },
  {
   "cell_type": "code",
   "execution_count": 2,
   "id": "16a13a3a-ade5-4b41-a559-bbe43544c97f",
   "metadata": {},
   "outputs": [
    {
     "name": "stdout",
     "output_type": "stream",
     "text": [
      "le produit de ces deux matrices est: [[1.87551485 0.93166978 1.27685871 0.61347567]\n",
      " [1.30804218 0.61232781 0.8950312  0.43348233]\n",
      " [0.90786317 0.52685615 0.60893889 0.28556209]]\n"
     ]
    }
   ],
   "source": [
    "result=np.dot(A,B)\n",
    "print('le produit de ces deux matrices est:',result)"
   ]
  },
  {
   "cell_type": "markdown",
   "id": "bfe6fb0a-6e7e-43ff-93e3-17d88b6b1242",
   "metadata": {},
   "source": [
    "__Exercice 3 : Extraction de Données___\n"
   ]
  },
  {
   "cell_type": "code",
   "execution_count": 5,
   "id": "0db47e05-57d1-4e8b-9ae6-72b5e0dc540a",
   "metadata": {},
   "outputs": [
    {
     "name": "stdout",
     "output_type": "stream",
     "text": [
      "[[0.79058547 0.76616742 0.61915493 0.05540072 0.82293149]\n",
      " [0.3472508  0.90529064 0.09776753 0.29406071 0.96781102]\n",
      " [0.38652131 0.31805651 0.43225598 0.83887898 0.11453864]\n",
      " [0.17732604 0.01631926 0.88521228 0.14156961 0.00389014]\n",
      " [0.80665417 0.13115837 0.91359618 0.85307365 0.71024037]]\n",
      "0.6191549285186381\n",
      "0.097767526747229\n",
      "0.43225598442531754\n",
      "0.8852122763618178\n",
      "0.9135961806183204\n"
     ]
    }
   ],
   "source": [
    "A=np.random.rand(5,5)\n",
    "print(A)\n",
    "for j in A:\n",
    "    print(j[2])"
   ]
  },
  {
   "cell_type": "markdown",
   "id": "ed664b96-4716-4cd7-ac69-8a694489f882",
   "metadata": {},
   "source": [
    "___Exercice 4 : Opérations statistiques__"
   ]
  },
  {
   "cell_type": "code",
   "execution_count": 8,
   "id": "7e19a3ed-057d-4174-ba47-a1e630d7e02a",
   "metadata": {},
   "outputs": [
    {
     "name": "stdout",
     "output_type": "stream",
     "text": [
      "la somme de chaque colonne: [1.21624223 1.11812854 2.59837532 1.39003603]\n",
      "la moyenne de chaque ligne: [0.55018012 0.59102581 0.43948961]\n",
      "le max de tableau: 0.9694851544040808\n",
      "le min de tableau: 0.12258066310393667\n",
      "la somme de chaque colonne: [0.35965118 0.28664873 0.09320086 0.21549139]\n"
     ]
    }
   ],
   "source": [
    "tab=np.random.rand(3,4)\n",
    "print('la somme de chaque colonne:', np.sum(tab,axis=0))\n",
    "print('la moyenne de chaque ligne:',np.mean(tab,axis=1))\n",
    "print('le max de tableau:',np.max(tab))\n",
    "print('le min de tableau:', np.min(tab))\n",
    "print('la somme de chaque colonne:',np.std(tab,axis=0))\n",
    "\n",
    "\n",
    "\n",
    "    "
   ]
  },
  {
   "cell_type": "markdown",
   "id": "e1df4b47-8d16-42ca-ae61-374f0dded8ec",
   "metadata": {},
   "source": [
    "___Exercice 5 : Indexation avancée___"
   ]
  },
  {
   "cell_type": "code",
   "execution_count": 14,
   "id": "da7a43e9-e285-4ede-a901-7947622f9f58",
   "metadata": {},
   "outputs": [
    {
     "name": "stdout",
     "output_type": "stream",
     "text": [
      "[[0.95898248 0.46875776]\n",
      " [0.69945978 0.9823348 ]\n",
      " [0.45869256 0.0227536 ]\n",
      " [0.66419775 0.88773161]]\n",
      "[0.95898248 0.59544031 0.69945978 0.9823348  0.74394959 0.54858432\n",
      " 0.8960928  0.66419775 0.88773161 0.57229688]\n",
      "[[0.44805227 0.95898248 0.0974667 ]\n",
      " [0.59544031 0.69945978 0.04106091]]\n"
     ]
    }
   ],
   "source": [
    "tab=np.random.rand(4,5)\n",
    "cols=tab[:,[1,3]]\n",
    "print(cols)\n",
    "\n",
    "elem=tab[tab>0.5]\n",
    "print(elem)\n",
    "\n",
    "elements=tab[0:2,:3]\n",
    "print(elements)"
   ]
  },
  {
   "cell_type": "markdown",
   "id": "d8e7b449-8a12-4edc-8568-f6e14844b34d",
   "metadata": {},
   "source": [
    "___Exercice 6 : Concaténation et division___"
   ]
  },
  {
   "cell_type": "code",
   "execution_count": 15,
   "id": "92a32862-ef10-49f1-9823-1760333120c8",
   "metadata": {},
   "outputs": [
    {
     "name": "stdout",
     "output_type": "stream",
     "text": [
      "[[0.69092964 0.40409921 0.54771566 0.14347197 0.98425689 0.12399011]\n",
      " [0.43270339 0.17276419 0.78151333 0.99921055 0.14397261 0.61289993]\n",
      " [0.40800847 0.6316896  0.02250166 0.62710671 0.30647503 0.62987583]]\n",
      "[array([[0.69092964, 0.40409921, 0.54771566],\n",
      "       [0.43270339, 0.17276419, 0.78151333],\n",
      "       [0.40800847, 0.6316896 , 0.02250166]]), array([[0.14347197, 0.98425689, 0.12399011],\n",
      "       [0.99921055, 0.14397261, 0.61289993],\n",
      "       [0.62710671, 0.30647503, 0.62987583]])]\n"
     ]
    }
   ],
   "source": [
    "arr1=np.random.rand(3,3)\n",
    "arr2=np.random.rand(3,3)\n",
    "concatenated_matrix=np.hstack((arr1,arr2))\n",
    "print(concatenated_matrix)\n",
    "split_matrices=np.hsplit(concatenated_matrix,2)\n",
    "print(split_matrices)\n"
   ]
  },
  {
   "cell_type": "markdown",
   "id": "79da6882-d24f-4870-8deb-d2c02f7b6b89",
   "metadata": {},
   "source": [
    "___Exercice 7 : Broadcasting__"
   ]
  },
  {
   "cell_type": "code",
   "execution_count": 18,
   "id": "1a636d52-4a1f-4f9d-a94f-45d46ac55199",
   "metadata": {},
   "outputs": [
    {
     "name": "stdout",
     "output_type": "stream",
     "text": [
      "[[1.6010666  2.80143974 3.19037644]\n",
      " [1.21257686 2.34982455 3.87751639]\n",
      " [1.37529726 2.93518122 3.34959976]]\n"
     ]
    }
   ],
   "source": [
    "tabl=np.random.rand(3,3)\n",
    "arr=np.array([1,2,3])\n",
    "result=tabl+arr\n",
    "print(result)"
   ]
  },
  {
   "cell_type": "markdown",
   "id": "94a30a85-23f5-4e06-a287-4053269c1daa",
   "metadata": {},
   "source": [
    "___Exercice 8 : Opérations matricielles avancées___"
   ]
  },
  {
   "cell_type": "code",
   "execution_count": 24,
   "id": "83b44158-1aa5-40c4-b3b7-5310fb61eca3",
   "metadata": {},
   "outputs": [
    {
     "name": "stdout",
     "output_type": "stream",
     "text": [
      "le multiple des matrices : [[0.94027663]\n",
      " [0.72858355]\n",
      " [0.3320106 ]]\n",
      "le determinant des matrices : -0.2197783586175521\n",
      "l'inverse des matrices : [[ 1.96861611 -1.88022573  0.61635665 -1.66722229  0.19085942]\n",
      " [ 0.59067182  0.38515311  1.1818865   0.41424395 -1.40209012]\n",
      " [-0.26295247  0.29990789 -0.2678461   1.48239116 -0.06892072]\n",
      " [-0.86306534  0.40260584  0.80899427 -0.16800799  0.32184843]\n",
      " [-0.97005648  1.194988   -1.54543383  0.11201353  1.15220655]]\n"
     ]
    }
   ],
   "source": [
    "mat1=np.random.rand(3,3)\n",
    "mat2=np.random.rand(3,1)\n",
    "matric_mult=np.dot(mat1,mat2)\n",
    "print(\"le multiple des matrices :\",matric_mult)\n",
    "\n",
    "det_A=np.linalg.det(A)\n",
    "print(\"le determinant des matrices :\",det_A)\n",
    "inv_A=np.linalg.inv(A)\n",
    "print(\"l'inverse des matrices :\",inv_A)\n"
   ]
  },
  {
   "cell_type": "markdown",
   "id": "0778ad4a-389c-4bc4-bfe7-10be22279767",
   "metadata": {},
   "source": [
    "___Exercice 9 : Calcul de normes___"
   ]
  },
  {
   "cell_type": "code",
   "execution_count": null,
   "id": "7c22b52a-0074-4d14-8d2e-c23cd5bde01a",
   "metadata": {},
   "outputs": [],
   "source": [
    "v="
   ]
  }
 ],
 "metadata": {
  "kernelspec": {
   "display_name": "Python 3 (ipykernel)",
   "language": "python",
   "name": "python3"
  },
  "language_info": {
   "codemirror_mode": {
    "name": "ipython",
    "version": 3
   },
   "file_extension": ".py",
   "mimetype": "text/x-python",
   "name": "python",
   "nbconvert_exporter": "python",
   "pygments_lexer": "ipython3",
   "version": "3.12.4"
  }
 },
 "nbformat": 4,
 "nbformat_minor": 5
}
